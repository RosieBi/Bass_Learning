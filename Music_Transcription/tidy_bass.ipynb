{
 "cells": [
  {
   "cell_type": "code",
   "execution_count": 29,
   "id": "b0d74e20",
   "metadata": {},
   "outputs": [],
   "source": [
    "import librosa\n",
    "import soundfile as sf\n",
    "import noisereduce as nr\n",
    "from scipy.signal import butter, lfilter"
   ]
  },
  {
   "cell_type": "code",
   "execution_count": 30,
   "id": "6e145423",
   "metadata": {},
   "outputs": [],
   "source": [
    "# ----------------------------\n",
    "# 1. Load the isolated bass track\n",
    "# ----------------------------\n",
    "input_filename = \"mp3_input/bass_NEICD.mp3\"\n",
    "output_filename = \"mp3_input/bass_NEICD_cleaned.mp3\"\n",
    "y, sr = librosa.load(input_filename, sr=None, mono=True)  # keep original sample rate\n"
   ]
  },
  {
   "cell_type": "code",
   "execution_count": 31,
   "id": "b0b57109",
   "metadata": {},
   "outputs": [],
   "source": [
    "# ----------------------------\n",
    "# 2. Band-pass filter (40–400 Hz for 4-string bass)\n",
    "# ----------------------------\n",
    "def butter_bandpass(lowcut, highcut, fs, order=4):\n",
    "    nyquist = 0.5 * fs\n",
    "    low = lowcut / nyquist\n",
    "    high = highcut / nyquist\n",
    "    b, a = butter(order, [low, high], btype='band')\n",
    "    return b, a\n",
    "\n",
    "def bandpass_filter(data, lowcut=40.0, highcut=400.0, fs=44100, order=4):\n",
    "    b, a = butter_bandpass(lowcut, highcut, fs, order=order)\n",
    "    return lfilter(b, a, data)"
   ]
  },
  {
   "cell_type": "code",
   "execution_count": null,
   "id": "cf088954",
   "metadata": {},
   "outputs": [],
   "source": [
    "#keep only frequencies which the 4 string bass is capable of\n",
    "\n",
    "y_band = bandpass_filter(y, lowcut=40.0, highcut=400.0, fs=sr)"
   ]
  },
  {
   "cell_type": "code",
   "execution_count": 33,
   "id": "c814384b",
   "metadata": {},
   "outputs": [],
   "source": [
    "# ----------------------------\n",
    "# 3. Noise reduction\n",
    "# ----------------------------\n",
    "# y_denoised = nr.reduce_noise(y=y_band, sr=sr)\n"
   ]
  },
  {
   "cell_type": "code",
   "execution_count": 34,
   "id": "853c71e8",
   "metadata": {},
   "outputs": [],
   "source": [
    "# ----------------------------\n",
    "# 4. Normalize levels (avoid clipping)\n",
    "# ----------------------------\n",
    "# y_norm = y_denoised / max(abs(y_denoised))"
   ]
  },
  {
   "cell_type": "code",
   "execution_count": 35,
   "id": "7e5e3713",
   "metadata": {},
   "outputs": [],
   "source": [
    "# ----------------------------\n",
    "# 5. Save cleaned bass track\n",
    "# ----------------------------\n",
    "sf.write(output_filename, y_band, sr)"
   ]
  }
 ],
 "metadata": {
  "kernelspec": {
   "display_name": "bass_app_env",
   "language": "python",
   "name": "python3"
  },
  "language_info": {
   "codemirror_mode": {
    "name": "ipython",
    "version": 3
   },
   "file_extension": ".py",
   "mimetype": "text/x-python",
   "name": "python",
   "nbconvert_exporter": "python",
   "pygments_lexer": "ipython3",
   "version": "3.10.18"
  }
 },
 "nbformat": 4,
 "nbformat_minor": 5
}
