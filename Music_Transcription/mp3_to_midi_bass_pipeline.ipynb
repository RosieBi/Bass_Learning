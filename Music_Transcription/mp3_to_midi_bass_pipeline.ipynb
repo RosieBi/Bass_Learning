{
 "cells": [
  {
   "cell_type": "code",
   "execution_count": 17,
   "id": "36b6673b",
   "metadata": {},
   "outputs": [],
   "source": [
    "import librosa\n",
    "import numpy as np\n",
    "import pretty_midi\n",
    "import soundfile as sf\n",
    "import noisereduce as nr\n",
    "import matplotlib.pyplot as plt\n",
    "from scipy.signal import butter, lfilter"
   ]
  },
  {
   "cell_type": "markdown",
   "id": "f3a3b55c",
   "metadata": {},
   "source": [
    "### Load MP3 of Isolated Bass"
   ]
  },
  {
   "cell_type": "code",
   "execution_count": 18,
   "id": "129341ae",
   "metadata": {},
   "outputs": [],
   "source": [
    "input_filename = \"mp3_input/bass_NGHYB.mp3\"\n",
    "input_cleaned_filename = \"mp3_input/bass_NGHYB_clean.mp3\"\n",
    "\n",
    "output_raw_filename = \"transcribed_output/bass_NGHYB_raw_transcribed.mid\"\n",
    "output_filename = \"transcribed_output/bass_NGHYB_transcribed.mid\"\n",
    "\n",
    "y, sr = librosa.load(input_filename, sr=None, mono=True)  # keep original sample rate"
   ]
  },
  {
   "cell_type": "markdown",
   "id": "f633c923",
   "metadata": {},
   "source": [
    "### Clean up Bass  \n",
    "Remove anything outside 40-400Hz"
   ]
  },
  {
   "cell_type": "code",
   "execution_count": 19,
   "id": "e0754ea2",
   "metadata": {},
   "outputs": [],
   "source": [
    "# ----------------------------\n",
    "# 2. Band-pass filter (40–400 Hz for 4-string bass)\n",
    "# ----------------------------\n",
    "def butter_bandpass(lowcut, highcut, fs, order=4):\n",
    "    nyquist = 0.5 * fs\n",
    "    low = lowcut / nyquist\n",
    "    high = highcut / nyquist\n",
    "    b, a = butter(order, [low, high], btype='band')\n",
    "    return b, a\n",
    "\n",
    "def bandpass_filter(data, lowcut=40.0, highcut=400.0, fs=44100, order=4):\n",
    "    b, a = butter_bandpass(lowcut, highcut, fs, order=order)\n",
    "    return lfilter(b, a, data)"
   ]
  },
  {
   "cell_type": "code",
   "execution_count": 20,
   "id": "9c8a34a5",
   "metadata": {},
   "outputs": [],
   "source": [
    "#keep only frequencies which the 4 string bass is capable of\n",
    "\n",
    "y_band = bandpass_filter(y, lowcut=40.0, highcut=400.0, fs=sr)"
   ]
  },
  {
   "cell_type": "code",
   "execution_count": 21,
   "id": "314d2039",
   "metadata": {},
   "outputs": [],
   "source": [
    "sf.write(input_cleaned_filename, y_band, sr)"
   ]
  },
  {
   "cell_type": "code",
   "execution_count": 22,
   "id": "b7e6e5a1",
   "metadata": {},
   "outputs": [],
   "source": [
    "audio, sr = librosa.load(input_cleaned_filename)"
   ]
  },
  {
   "cell_type": "markdown",
   "id": "2456ea37",
   "metadata": {},
   "source": [
    "### MP3 to Midi"
   ]
  },
  {
   "cell_type": "code",
   "execution_count": 23,
   "id": "68af4ede",
   "metadata": {},
   "outputs": [],
   "source": [
    "hop_length = 512 # default"
   ]
  },
  {
   "cell_type": "code",
   "execution_count": 24,
   "id": "dae9d59e",
   "metadata": {},
   "outputs": [],
   "source": [
    "f0 = librosa.yin(y=audio, fmin=40, fmax=400, sr=sr)\n",
    "times = librosa.frames_to_time(np.arange(len(f0)), sr=sr, hop_length=hop_length)"
   ]
  },
  {
   "cell_type": "code",
   "execution_count": 25,
   "id": "77e88ae7",
   "metadata": {},
   "outputs": [],
   "source": [
    "# Convert frequencies → MIDI notes\n",
    "def hz_to_midi(hz):\n",
    "    if hz <= 0 or np.isnan(hz):\n",
    "        return None\n",
    "    return int(round(69 + 12 * np.log2(hz / 440.0)))\n",
    "\n",
    "midi_notes = [hz_to_midi(freq) for freq in f0]"
   ]
  },
  {
   "cell_type": "markdown",
   "id": "59ad3455",
   "metadata": {},
   "source": [
    "Plot First 500 Samples"
   ]
  },
  {
   "cell_type": "code",
   "execution_count": 26,
   "id": "1aacaf82",
   "metadata": {},
   "outputs": [
    {
     "data": {
      "text/plain": [
       "[<matplotlib.lines.Line2D at 0x28154a77940>]"
      ]
     },
     "execution_count": 26,
     "metadata": {},
     "output_type": "execute_result"
    },
    {
     "data": {
      "image/png": "[encoded data removed]",
      "text/plain": [
       "<Figure size 640x480 with 1 Axes>"
      ]
     },
     "metadata": {},
     "output_type": "display_data"
    }
   ],
   "source": [
    "plt.plot(midi_notes[:500])"
   ]
  },
  {
   "cell_type": "markdown",
   "id": "3d537aa0",
   "metadata": {},
   "source": [
    "Convert to Midi"
   ]
  },
  {
   "cell_type": "code",
   "execution_count": 27,
   "id": "42b504ba",
   "metadata": {},
   "outputs": [],
   "source": [
    "noise_window = 1\n",
    "\n",
    "# build midi from sequence of midi notes \n",
    "# Build MIDI file\n",
    "midi = pretty_midi.PrettyMIDI()\n",
    "bass_program = pretty_midi.instrument_name_to_program(\"Acoustic Bass\")\n",
    "bass = pretty_midi.Instrument(program=bass_program)\n",
    "\n",
    "# Group frames into sustained notes\n",
    "current_note = None\n",
    "note_start = None\n",
    "\n",
    "for i, note in enumerate(midi_notes):\n",
    "    if note is not None:\n",
    "        if current_note is None:  # new note\n",
    "            current_note = note\n",
    "            note_start = times[i]\n",
    "        elif not((current_note - noise_window) < note < (current_note + noise_window)):  # pitch change → close old note, start new\n",
    "            bass.notes.append(pretty_midi.Note(\n",
    "                velocity=100, pitch=current_note,\n",
    "                start=note_start, end=times[i]\n",
    "            ))\n",
    "            current_note = note\n",
    "            note_start = times[i]\n",
    "    else:\n",
    "        if current_note is not None:  # end current note\n",
    "            bass.notes.append(pretty_midi.Note(\n",
    "                velocity=100, pitch=current_note,\n",
    "                start=note_start, end=times[i]\n",
    "            ))\n",
    "            current_note = None\n",
    "            note_start = None\n",
    "\n",
    "# If song ends with a note still playing\n",
    "if current_note is not None:\n",
    "    bass.notes.append(pretty_midi.Note(\n",
    "        velocity=100, pitch=current_note,\n",
    "        start=note_start, end=times[-1]\n",
    "    ))\n",
    "\n",
    "midi.instruments.append(bass)"
   ]
  },
  {
   "cell_type": "code",
   "execution_count": 28,
   "id": "b85908b8",
   "metadata": {},
   "outputs": [],
   "source": [
    "### Save Raw Midi\n",
    "midi.write(output_raw_filename)"
   ]
  },
  {
   "cell_type": "markdown",
   "id": "67563e0d",
   "metadata": {},
   "source": [
    "### Clean up Midi"
   ]
  },
  {
   "cell_type": "code",
   "execution_count": 29,
   "id": "dc695709",
   "metadata": {},
   "outputs": [],
   "source": [
    "instrument = midi.instruments[0]"
   ]
  },
  {
   "cell_type": "code",
   "execution_count": 30,
   "id": "4311d7b0",
   "metadata": {},
   "outputs": [],
   "source": [
    "# ----------------------------\n",
    "# Define helpers\n",
    "# ----------------------------\n",
    "def quantize_time(time, grid_size, pm):\n",
    "    \"\"\"Quantize a time value to the nearest grid point.\"\"\"\n",
    "    # Get beat grid from PrettyMIDI\n",
    "    beats = pm.get_beats()\n",
    "    if len(beats) < 2:\n",
    "        return time  # no tempo info, skip\n",
    "\n",
    "    # Grid spacing in seconds\n",
    "    grid = np.arange(beats[0], beats[-1], grid_size)\n",
    "    return grid[np.argmin(np.abs(grid - time))]"
   ]
  },
  {
   "cell_type": "markdown",
   "id": "49b70fbf",
   "metadata": {},
   "source": [
    "Removes any Short Noises"
   ]
  },
  {
   "cell_type": "code",
   "execution_count": 31,
   "id": "711a8f03",
   "metadata": {},
   "outputs": [],
   "source": [
    "min_length = 0.12\n",
    "\n",
    "cleaned_notes = []\n",
    "for note in instrument.notes:\n",
    "    # # Keep only notes in 4-string bass range (E1=40 to G4=67 in MIDI numbers)\n",
    "    # if 40 <= note.pitch <= 67:\n",
    "    # Remove very short noise notes (< 60 ms)\n",
    "    if note.end - note.start > min_length:\n",
    "        # Clamp velocities to a usable range\n",
    "        note.velocity = min(max(note.velocity, 40), 100)\n",
    "\n",
    "        # Quantize note start and end to nearest 1/16th note\n",
    "        quantized_start = quantize_time(note.start, 0.25, midi)  # quarter-note subdivisions\n",
    "        quantized_end = quantize_time(note.end, 0.25, midi)\n",
    "\n",
    "        # Ensure quantized_end > quantized_start\n",
    "        if quantized_end <= quantized_start:\n",
    "            quantized_end = quantized_start + 0.1\n",
    "\n",
    "        note.start = quantized_start\n",
    "        note.end = quantized_end\n",
    "\n",
    "        cleaned_notes.append(note)"
   ]
  },
  {
   "cell_type": "code",
   "execution_count": 32,
   "id": "4cfdcee3",
   "metadata": {},
   "outputs": [],
   "source": [
    "# Replace notes with cleaned list\n",
    "instrument.notes = cleaned_notes"
   ]
  },
  {
   "cell_type": "markdown",
   "id": "3041788c",
   "metadata": {},
   "source": [
    "### Save"
   ]
  },
  {
   "cell_type": "code",
   "execution_count": 33,
   "id": "9cad9ace",
   "metadata": {},
   "outputs": [],
   "source": [
    "# Save cleaned MIDI\n",
    "midi.write(output_filename)"
   ]
  }
 ],
 "metadata": {
  "kernelspec": {
   "display_name": "bass_app_env",
   "language": "python",
   "name": "python3"
  },
  "language_info": {
   "codemirror_mode": {
    "name": "ipython",
    "version": 3
   },
   "file_extension": ".py",
   "mimetype": "text/x-python",
   "name": "python",
   "nbconvert_exporter": "python",
   "pygments_lexer": "ipython3",
   "version": "3.10.18"
  }
 },
 "nbformat": 4,
 "nbformat_minor": 5
}
