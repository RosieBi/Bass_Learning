{
 "cells": [
  {
   "cell_type": "code",
   "execution_count": 108,
   "id": "0eb34c04",
   "metadata": {},
   "outputs": [],
   "source": [
    "import matplotlib.pyplot as plt\n",
    "import numpy as np\n",
    "import pretty_midi\n",
    "import librosa"
   ]
  },
  {
   "cell_type": "code",
   "execution_count": 109,
   "id": "f05f7757",
   "metadata": {},
   "outputs": [],
   "source": [
    "input_path = \"mp3_input/bass_NGHYB_clean_20_seconds.mp3\"\n",
    "output_path = \"transcribed_output/bass_output.mid\"\n",
    "\n",
    "audio, sr = librosa.load(input_path)"
   ]
  },
  {
   "cell_type": "code",
   "execution_count": null,
   "id": "efe8edce",
   "metadata": {},
   "outputs": [],
   "source": [
    "hop_length = 512 # default\n",
    "# hop_length = 700"
   ]
  },
  {
   "cell_type": "code",
   "execution_count": 111,
   "id": "661d221b",
   "metadata": {},
   "outputs": [],
   "source": [
    "f0 = librosa.yin(y=audio, fmin=40, fmax=400, sr=sr)\n",
    "times = librosa.frames_to_time(np.arange(len(f0)), sr=sr, hop_length=hop_length)"
   ]
  },
  {
   "cell_type": "code",
   "execution_count": 112,
   "id": "7d71af98",
   "metadata": {},
   "outputs": [],
   "source": [
    "# Convert frequencies → MIDI notes\n",
    "def hz_to_midi(hz):\n",
    "    if hz <= 0 or np.isnan(hz):\n",
    "        return None\n",
    "    return int(round(69 + 12 * np.log2(hz / 440.0)))\n",
    "\n",
    "midi_notes = [hz_to_midi(freq) for freq in f0]"
   ]
  },
  {
   "cell_type": "code",
   "execution_count": 113,
   "id": "9beafb56",
   "metadata": {},
   "outputs": [
    {
     "name": "stdout",
     "output_type": "stream",
     "text": [
      "[39, 35, 34, 34, 33, 34, 29, 29, 34, 34, 34, 34, 34, 35, 35, 35, 37, 28, 28, 28, 48, 27, 28, 28, 28, 28, 28, 28, 28, 28, 28, 28, 28, 28, 28, 28, 28, 28, 28, 28, 28, 28, 28, 28, 28, 28, 28, 28, 28, 28, 28, 28, 28, 28, 28, 28, 28, 28, 28, 28, 28, 28, 28, 28, 28, 28, 28, 28, 28, 28, 28, 28, 28, 28, 28, 28, 28, 28, 28, 28, 28, 28, 28, 28, 28, 28, 28, 28, 28, 28, 28, 28, 28, 28, 28, 28, 28, 28, 28, 28, 28, 28, 28, 28, 28, 28, 28, 28, 28, 28, 28, 28, 28, 28, 28, 28, 28, 28, 28, 28, 28, 28, 28, 28, 28, 28, 29, 35, 35, 35, 35, 35, 35, 35, 35, 35, 35, 35, 35, 35, 35, 35, 35, 35, 35, 35, 35, 35, 35, 35, 35, 35, 35, 35, 35, 35, 35, 35, 35, 35, 35, 35, 35, 35, 35, 35, 35, 35, 35, 35, 35, 35, 35, 35, 35, 35, 35, 35, 35, 35, 35, 35, 35, 35, 35, 35, 35, 35, 35, 35, 35, 35, 35, 35, 35, 35, 35, 35, 35, 35, 35, 35, 35, 35, 35, 35, 35, 35, 35, 35, 35, 35, 35, 35, 35, 35, 35, 35, 35, 35, 35, 35, 35, 35, 35, 34, 35, 39, 30, 30, 30, 30, 30, 30, 30, 30, 30, 30, 30, 30, 30, 30, 30, 30, 30, 30, 30, 30, 30, 30, 30, 30, 30, 30, 30, 30, 30, 30, 30, 30, 30, 30, 30, 30, 30, 41, 29, 30, 30, 30, 30, 30, 30, 30, 30, 30, 30, 30, 30, 30, 30, 30, 30, 30, 30, 30, 30, 30, 30, 30, 30, 30, 30, 30, 30, 30, 30, 30, 30, 30, 30, 30, 30, 30, 30, 30, 30, 30, 30, 30, 30, 30, 30, 30, 30, 30, 30, 30, 30, 30, 30, 30, 30, 30, 30, 30, 30, 30, 30, 30, 28, 28, 28, 28, 28, 28, 28, 28, 33, 33, 33, 33, 33, 33, 33, 33, 33, 33, 33, 33, 33, 33, 33, 33, 33, 33, 33, 33, 33, 33, 33, 33, 33, 33, 33, 33, 33, 33, 33, 33, 33, 33, 33, 33, 33, 33, 33, 33, 33, 33, 33, 33, 33, 33, 33, 33, 33, 33, 33, 33, 33, 33, 33, 33, 33, 33, 33, 33, 33, 33, 33, 33, 33, 33, 33, 33, 33, 33, 33, 33, 33, 33, 33, 33, 33, 33, 33, 33, 33, 33, 33, 33, 33, 33, 33, 33, 33, 33, 33, 33, 33, 33, 33, 33, 33, 34, 28, 28, 28, 28, 28, 28, 28, 28, 28, 28, 28, 28, 28, 28, 28, 28, 28, 28, 28, 28, 28, 28, 28, 28, 28, 28, 28, 28, 28, 28, 28, 28, 28, 28, 28, 28, 28, 28, 28, 28, 28, 28, 28, 28, 28, 28, 28, 28, 28, 28, 28, 28, 28, 28, 28, 28, 28, 28, 28, 28, 28, 28, 28, 28, 28, 28, 28, 28, 28, 28, 28, 28, 28, 28, 28, 28, 28, 28, 28, 28, 28, 28, 28, 28, 28, 28, 28, 28, 28, 28, 28, 28, 28, 28, 28, 28, 28, 28, 28, 28, 28, 28, 28, 28, 28, 28, 28, 28, 28, 28, 28, 28, 28, 28, 30, 35, 35, 35, 35, 35, 35, 35, 35, 35, 35, 35, 35, 35, 35, 35, 35, 35, 35, 35, 35, 35, 35, 35, 35, 35, 35, 35, 35, 35, 35, 35, 35, 35, 35, 35, 35, 35, 35, 35, 35, 35, 35, 35, 35, 35, 35, 35, 35, 35, 35, 35, 35, 35, 35, 35, 35, 35, 35, 35, 35, 35, 35, 35, 35, 35, 35, 35, 35, 35, 35, 35, 35, 35, 35, 35, 35, 35, 35, 35, 35, 35, 35, 35, 35, 35, 35, 35, 35, 35, 35, 35, 35, 34, 33, 33, 34, 40, 29, 30, 30, 30, 30, 30, 30, 30, 30, 30, 30, 30, 30, 30, 30, 30, 30, 30, 30, 30, 30, 30, 30, 30, 30, 30, 30, 30, 30, 30, 30, 30, 30, 30, 30, 30, 30, 30, 30, 30, 30, 30, 30, 30, 30, 30, 30, 30, 30, 30, 30, 30, 30, 30, 30, 30, 30, 30, 30, 30, 30, 30, 30, 30, 30, 30, 30, 30, 30, 30, 30, 30, 30, 30, 30, 30, 30, 30, 30, 30, 30, 30, 30, 30, 30, 30, 30, 30, 30, 30, 30, 30, 30, 30, 30, 30, 30, 30, 30, 30, 30, 30, 30, 29, 28, 28, 28, 41, 41, 33, 33, 33, 33, 33, 33, 33, 33, 33, 33, 33, 33, 33, 33, 33, 33, 33, 33, 33, 33, 33, 33, 33, 33, 33, 33, 33, 33, 33, 33, 33, 33, 33, 33, 33, 33, 33, 33, 33, 33, 33, 33, 33, 33, 33, 33, 33, 33, 33, 33, 33, 33, 33, 33, 33, 33, 33, 33, 33, 33, 33, 33, 33, 33, 33, 33, 33, 33, 33, 33, 33, 33, 33, 33, 33, 33, 33, 33, 33, 33, 33, 33, 33, 33, 33, 33, 33, 33, 33, 33, 33, 33, 33, 33, 33, 33, 33, 33, 33, 33, 33, 33, 28, 28, 28]\n"
     ]
    }
   ],
   "source": [
    "print(midi_notes)"
   ]
  },
  {
   "cell_type": "code",
   "execution_count": 114,
   "id": "d86aec17",
   "metadata": {},
   "outputs": [
    {
     "name": "stdout",
     "output_type": "stream",
     "text": [
      "862\n",
      "862\n"
     ]
    }
   ],
   "source": [
    "print(len(times))\n",
    "print(len(midi_notes))"
   ]
  },
  {
   "cell_type": "code",
   "execution_count": 115,
   "id": "8fd4af49",
   "metadata": {},
   "outputs": [
    {
     "data": {
      "text/plain": [
       "[<matplotlib.lines.Line2D at 0x18fdfe9a9b0>]"
      ]
     },
     "execution_count": 115,
     "metadata": {},
     "output_type": "execute_result"
    },
    {
     "data": {
      "image/png": "[encoded data removed]",
      "text/plain": [
       "<Figure size 640x480 with 1 Axes>"
      ]
     },
     "metadata": {},
     "output_type": "display_data"
    }
   ],
   "source": [
    "plt.plot(midi_notes)"
   ]
  },
  {
   "cell_type": "code",
   "execution_count": 116,
   "id": "aefc44bf",
   "metadata": {},
   "outputs": [],
   "source": [
    "noise_window = 1\n",
    "\n",
    "# build midi from sequence of midi notes \n",
    "# Build MIDI file\n",
    "midi = pretty_midi.PrettyMIDI()\n",
    "bass_program = pretty_midi.instrument_name_to_program(\"Acoustic Bass\")\n",
    "bass = pretty_midi.Instrument(program=bass_program)\n",
    "\n",
    "# Group frames into sustained notes\n",
    "current_note = None\n",
    "note_start = None\n",
    "\n",
    "for i, note in enumerate(midi_notes):\n",
    "    if note is not None:\n",
    "        if current_note is None:  # new note\n",
    "            current_note = note\n",
    "            note_start = times[i]\n",
    "        elif not((current_note - noise_window) < note < (current_note + noise_window)):  # pitch change → close old note, start new\n",
    "            bass.notes.append(pretty_midi.Note(\n",
    "                velocity=100, pitch=current_note,\n",
    "                start=note_start, end=times[i]\n",
    "            ))\n",
    "            current_note = note\n",
    "            note_start = times[i]\n",
    "    else:\n",
    "        if current_note is not None:  # end current note\n",
    "            bass.notes.append(pretty_midi.Note(\n",
    "                velocity=100, pitch=current_note,\n",
    "                start=note_start, end=times[i]\n",
    "            ))\n",
    "            current_note = None\n",
    "            note_start = None\n",
    "\n",
    "# If song ends with a note still playing\n",
    "if current_note is not None:\n",
    "    bass.notes.append(pretty_midi.Note(\n",
    "        velocity=100, pitch=current_note,\n",
    "        start=note_start, end=times[-1]\n",
    "    ))\n",
    "\n",
    "midi.instruments.append(bass)"
   ]
  },
  {
   "cell_type": "code",
   "execution_count": 117,
   "id": "a36a3ecc",
   "metadata": {},
   "outputs": [
    {
     "data": {
      "text/plain": [
       "[Note(start=0.000000, end=0.031746, pitch=39, velocity=100),\n",
       " Note(start=0.031746, end=0.063492, pitch=35, velocity=100),\n",
       " Note(start=0.063492, end=0.126984, pitch=34, velocity=100),\n",
       " Note(start=0.126984, end=0.158730, pitch=33, velocity=100),\n",
       " Note(start=0.158730, end=0.190476, pitch=34, velocity=100),\n",
       " Note(start=0.190476, end=0.253968, pitch=29, velocity=100),\n",
       " Note(start=0.253968, end=0.412698, pitch=34, velocity=100),\n",
       " Note(start=0.412698, end=0.507937, pitch=35, velocity=100),\n",
       " Note(start=0.507937, end=0.539683, pitch=37, velocity=100),\n",
       " Note(start=0.539683, end=0.634921, pitch=28, velocity=100),\n",
       " Note(start=0.634921, end=0.666667, pitch=48, velocity=100),\n",
       " Note(start=0.666667, end=0.698413, pitch=27, velocity=100),\n",
       " Note(start=0.698413, end=4.000000, pitch=28, velocity=100),\n",
       " Note(start=4.000000, end=4.031746, pitch=29, velocity=100),\n",
       " Note(start=4.031746, end=7.142857, pitch=35, velocity=100),\n",
       " Note(start=7.142857, end=7.174603, pitch=34, velocity=100),\n",
       " Note(start=7.174603, end=7.206349, pitch=35, velocity=100),\n",
       " Note(start=7.206349, end=7.238095, pitch=39, velocity=100),\n",
       " Note(start=7.238095, end=8.412698, pitch=30, velocity=100),\n",
       " Note(start=8.412698, end=8.444444, pitch=41, velocity=100),\n",
       " Note(start=8.444444, end=8.476190, pitch=29, velocity=100),\n",
       " Note(start=8.476190, end=10.476190, pitch=30, velocity=100),\n",
       " Note(start=10.476190, end=10.730159, pitch=28, velocity=100),\n",
       " Note(start=10.730159, end=13.809524, pitch=33, velocity=100),\n",
       " Note(start=13.809524, end=13.841270, pitch=34, velocity=100),\n",
       " Note(start=13.841270, end=17.460317, pitch=28, velocity=100),\n",
       " Note(start=17.460317, end=17.492063, pitch=30, velocity=100),\n",
       " Note(start=17.492063, end=20.412698, pitch=35, velocity=100),\n",
       " Note(start=20.412698, end=20.444444, pitch=34, velocity=100),\n",
       " Note(start=20.444444, end=20.507937, pitch=33, velocity=100),\n",
       " Note(start=20.507937, end=20.539683, pitch=34, velocity=100),\n",
       " Note(start=20.539683, end=20.571429, pitch=40, velocity=100),\n",
       " Note(start=20.571429, end=20.603175, pitch=29, velocity=100),\n",
       " Note(start=20.603175, end=23.841270, pitch=30, velocity=100),\n",
       " Note(start=23.841270, end=23.873016, pitch=29, velocity=100),\n",
       " Note(start=23.873016, end=23.968254, pitch=28, velocity=100),\n",
       " Note(start=23.968254, end=24.031746, pitch=41, velocity=100),\n",
       " Note(start=24.031746, end=27.269841, pitch=33, velocity=100),\n",
       " Note(start=27.269841, end=27.333333, pitch=28, velocity=100)]"
      ]
     },
     "execution_count": 117,
     "metadata": {},
     "output_type": "execute_result"
    }
   ],
   "source": [
    "bass.notes"
   ]
  },
  {
   "cell_type": "code",
   "execution_count": 118,
   "id": "ecbd99ad",
   "metadata": {},
   "outputs": [],
   "source": [
    "# midi.write(output_path)"
   ]
  }
 ],
 "metadata": {
  "kernelspec": {
   "display_name": "bass_app_env",
   "language": "python",
   "name": "python3"
  },
  "language_info": {
   "codemirror_mode": {
    "name": "ipython",
    "version": 3
   },
   "file_extension": ".py",
   "mimetype": "text/x-python",
   "name": "python",
   "nbconvert_exporter": "python",
   "pygments_lexer": "ipython3",
   "version": "3.10.18"
  }
 },
 "nbformat": 4,
 "nbformat_minor": 5
}
