{
 "cells": [
  {
   "cell_type": "code",
   "execution_count": null,
   "id": "f1f746cb",
   "metadata": {},
   "outputs": [],
   "source": [
    "import pygame.midi\n",
    "import time\n",
    "\n",
    "pygame.midi.init()\n",
    "player = pygame.midi.Output(0) \n",
    "player.set_instrument(33) # correspends to General Midi Instrument Number - bass \n",
    "\n",
    "# G Highest, E Lowest Freq\n",
    "\n",
    "# G|----------------|\n",
    "# D|----------------|   \n",
    "# A|----------------|   \n",
    "# E|----------------|\n",
    "\n",
    "#preset to max velocity and 1 second duration\n",
    "def play_note(note_tab_lst, velocity = 127, duration =1):\n",
    "    note_number = tab_to_note_num(note_tab_lst)\n",
    "    \n",
    "    player.note_on(note_number, velocity)\n",
    "    time.sleep(duration)\n",
    "    player.note_off(note_number, velocity)\n",
    "\n",
    "def tab_to_note_num(note_tab_lst):\n",
    "    return bass_notes[note_tab_lst[0]] + note_tab_lst[1] # add semitone to open string based off dictionary\n",
    "\n",
    "bass_notes = {\n",
    "    \"G\" : 43,\n",
    "    \"D\" : 38,\n",
    "    \"A\" : 33,\n",
    "    \"E\" : 28\n",
    "}\n",
    "\n",
    "note_tab = [\"E\", 5]\n",
    "\n",
    "play_note(note_tab)\n",
    "play_note([\"A\",0])\n",
    "\n",
    "del player\n",
    "pygame.midi.quit()"
   ]
  },
  {
   "cell_type": "code",
   "execution_count": 34,
   "id": "ac44f60a",
   "metadata": {},
   "outputs": [
    {
     "data": {
      "text/plain": [
       "33"
      ]
     },
     "execution_count": 34,
     "metadata": {},
     "output_type": "execute_result"
    }
   ],
   "source": [
    "bass_notes[note_tab[0]] + note_tab[1]"
   ]
  }
 ],
 "metadata": {
  "kernelspec": {
   "display_name": "bass_app_env",
   "language": "python",
   "name": "python3"
  },
  "language_info": {
   "codemirror_mode": {
    "name": "ipython",
    "version": 3
   },
   "file_extension": ".py",
   "mimetype": "text/x-python",
   "name": "python",
   "nbconvert_exporter": "python",
   "pygments_lexer": "ipython3",
   "version": "3.10.18"
  }
 },
 "nbformat": 4,
 "nbformat_minor": 5
}
